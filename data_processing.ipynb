{
 "metadata": {
  "language_info": {
   "codemirror_mode": {
    "name": "ipython",
    "version": 3
   },
   "file_extension": ".py",
   "mimetype": "text/x-python",
   "name": "python",
   "nbconvert_exporter": "python",
   "pygments_lexer": "ipython3",
   "version": "3.9.2"
  },
  "orig_nbformat": 2,
  "kernelspec": {
   "name": "python392jvsc74a57bd07812ea015bdcee6f23a998adcdd2ef97c151c0c241b7b7070987d9313e41299d",
   "display_name": "Python 3.9.2 64-bit ('3.9')"
  }
 },
 "nbformat": 4,
 "nbformat_minor": 2,
 "cells": [
  {
   "source": [
    "## Pre-processing eval data\n",
    "\n",
    "MLQA Dataset, see excel file for explanation\n"
   ],
   "cell_type": "markdown",
   "metadata": {}
  },
  {
   "cell_type": "code",
   "execution_count": null,
   "metadata": {},
   "outputs": [],
   "source": [
    "# process MLQA dataset to fit haystack doc stores, see explanation in the excel file\n",
    "\n",
    "json_files = glob('/content/drive/MyDrive/Colab Notebooks/MLQA_V1/test/*.json')\n",
    "#json_file = '/content/drive/MyDrive/Colab Notebooks/MLQA_V1/test/test-context-en-question-en.json'\n",
    "#json_file = '/content/drive/MyDrive/Colab Notebooks/MLQA_V1/processed/MLQA_EN_EN.json'\n",
    "\n",
    "all_files = []\n",
    "for json_file in json_files:\n",
    "  new_file = []\n",
    "  with open(json_file) as f2:\n",
    "    d2 = json.load(f2)\n",
    "    \n",
    "    for t in d2['data']:\n",
    "      for i,c in enumerate(t['paragraphs']):\n",
    "        tit = t['title']+'_'+str(i)\n",
    "        doc_set = t['title']\n",
    "\n",
    "        dic = {}\n",
    "        dic['title'] = tit\n",
    "        dic['doc_set'] = doc_set\n",
    "        dic['num_docs'] = len(t['paragraphs'])\n",
    "        dic['lang_ctx_qst'] = json_file[-19:-17] +'-'+ json_file[-7:-5]\n",
    "\n",
    "        for q in c['qas']:\n",
    "          dic['paragraphs'] = [{\n",
    "                'context' : c['context'],\n",
    "                'qas': [{\n",
    "                        'answers': qx['answers'],\n",
    "                        'id': qx['id'],\n",
    "                        'question': qx['question'],\n",
    "                        'is_impossible': False\n",
    "                        } for qx in c['qas']]\n",
    "                }]\n",
    "\n",
    "        new_file.append(dic)\n",
    "  all_files.extend(new_file)"
   ]
  },
  {
   "source": [
    "# 138 636 docs\n",
    "# 158 083 qs\n",
    "\n",
    "df = pd.DataFrame(all_files)\n",
    "\n",
    "df.reset_index(drop=True, inplace=True)\n",
    "\n",
    "groups = [df for _, df in df.groupby(['doc_set','lang_ctx_qst'])]\n",
    "random.shuffle(groups)\n",
    "df_shuffled = pd.concat(groups)\n",
    "\n",
    "df_shuffled.reset_index(drop=True, inplace=True)\n"
   ],
   "cell_type": "code",
   "metadata": {},
   "execution_count": null,
   "outputs": []
  },
  {
   "cell_type": "code",
   "execution_count": null,
   "metadata": {},
   "outputs": [],
   "source": [
    "len(df_shuffled)\n",
    "#138 636 total rows\n"
   ]
  },
  {
   "cell_type": "code",
   "execution_count": null,
   "metadata": {},
   "outputs": [],
   "source": [
    "slice1k = df_shuffled.head(70000)\n",
    "fin_file = {}\n",
    "fin_file['data'] = slice1k.to_dict(orient='records')\n"
   ]
  },
  {
   "cell_type": "code",
   "execution_count": null,
   "metadata": {},
   "outputs": [],
   "source": [
    "fin_file = {}\n",
    "fin_file['data'] = df_shuffled.to_dict(orient='records')\n"
   ]
  },
  {
   "cell_type": "code",
   "execution_count": null,
   "metadata": {},
   "outputs": [],
   "source": [
    "with open('/content/drive/MyDrive/Colab Notebooks/MLQA_V1/processed/MLQA_ALL_70k.json', 'w') as fp:\n",
    "  json.dump(fin_file, fp)"
   ]
  }
 ]
}